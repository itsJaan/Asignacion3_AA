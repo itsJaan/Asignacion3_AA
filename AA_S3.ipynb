{
  "nbformat": 4,
  "nbformat_minor": 0,
  "metadata": {
    "colab": {
      "name": "AA_S3.ipynb",
      "provenance": [],
      "collapsed_sections": []
    },
    "kernelspec": {
      "name": "python3",
      "display_name": "Python 3"
    }
  },
  "cells": [
    {
      "cell_type": "code",
      "metadata": {
        "id": "yFEQKFPTD52A",
        "outputId": "9ff9842f-c151-4fe6-cba4-49dff3d9d66c",
        "colab": {
          "base_uri": "https://localhost:8080/"
        }
      },
      "source": [
        "import numpy as np\n",
        "\n",
        "precios = np.array((10,8,20,50,44,32,5,4,90,73,82,51,17,15,13,28,99,38,69,25,11,9,47,98,77,33,58,24,15,54))\n",
        "total=0\n",
        "descuentos = []\n",
        "for x in precios:\n",
        "  actual = np.where(precios==x)\n",
        "  if not x in descuentos:\n",
        "    for y in precios[actual[0][0]:]:\n",
        "      actual_y = np.where(precios==y)\n",
        "      if y != precios[actual[0][0]] and y < x:\n",
        "        if not y in descuentos:\n",
        "          descuentos = np.append(descuentos,precios[actual_y[0][0]])\n",
        "          total = precios[actual[0][0]] + total\n",
        "          break\n",
        "\n",
        "print(\"\\nTotal: \", total)"
      ],
      "execution_count": null,
      "outputs": [
        {
          "output_type": "stream",
          "text": [
            "\n",
            "Total:  713\n"
          ],
          "name": "stdout"
        }
      ]
    },
    {
      "cell_type": "code",
      "metadata": {
        "id": "Z9c2B2U6LxFJ",
        "outputId": "29d114f9-70fc-4ea5-bad2-903f068e2bfb",
        "colab": {
          "base_uri": "https://localhost:8080/"
        }
      },
      "source": [
        "import numpy as np\n",
        "precios = np.array((10,8,20,50,44,32,5,4,90,73,82,51,17,15,13,28,99,38,69,25,11,9,47,98,77,33,58,24,15,54))\n",
        "precios=  sorted(precios, reverse=True)\n",
        "total=0\n",
        "totales=[]\n",
        "desc=0;\n",
        "for pr in precios:\n",
        "  if desc == 0:\n",
        "    total = total+pr\n",
        "    totales = np.append(totales, pr)\n",
        "    desc = 1\n",
        "  else:\n",
        "    desc = 0 \n",
        "print(\"Total: \" ,total)\n"
      ],
      "execution_count": null,
      "outputs": [
        {
          "output_type": "stream",
          "text": [
            "[99, 98, 90, 82, 77, 73, 69, 58, 54, 51, 50, 47, 44, 38, 33, 32, 28, 25, 24, 20, 17, 15, 15, 13, 11, 10, 9, 8, 5, 4]\n",
            "[99. 90. 77. 69. 54. 50. 44. 33. 28. 24. 17. 15. 11.  9.  5.]\n",
            "Total:  625\n"
          ],
          "name": "stdout"
        }
      ]
    },
    {
      "cell_type": "markdown",
      "metadata": {
        "id": "8tsOKFlAB0_f"
      },
      "source": [
        "Codigo eleccion personal"
      ]
    },
    {
      "cell_type": "code",
      "metadata": {
        "id": "iYAsogNY_g_A"
      },
      "source": [
        "import numpy as np\n",
        "def nearPoints(lista):\n",
        "  nearP = 0\n",
        "  for x in lista:\n",
        "    cont=0\n",
        "    temp = 0\n",
        "    for y in lista:\n",
        "      if x != y:\n",
        "        result = np.sqrt((x[0] - y[0])**2 + (x[1] - y[1])**2)\n",
        "        if temp == 0:\n",
        "          temp = result\n",
        "          nearP = cont\n",
        "        if  result < temp:\n",
        "          temp = result\n",
        "          nearP = cont\n",
        "\n",
        "      cont = cont + 1\n",
        "    print(\"El punto mas cercano de: \")\n",
        "    print(x)\n",
        "    print(\"es: \")\n",
        "    print(lista[nearP])\n",
        "\n",
        "nums = [(0,1),(1,2),(2,1),(3,3),(4,4)]\n",
        "nearPoints(nums)"
      ],
      "execution_count": null,
      "outputs": []
    },
    {
      "cell_type": "markdown",
      "metadata": {
        "id": "jwvsBNzWB48k"
      },
      "source": [
        "Codigo utilizando Divide y venceras"
      ]
    },
    {
      "cell_type": "code",
      "metadata": {
        "id": "_npO8ZrnB8J5"
      },
      "source": [
        "import math\n",
        "\n",
        "def divNearPoints(lista, sl, sr):\n",
        "  if sl == sr:\n",
        "    return [lista[sl]]\n",
        "  if sl+1 == sr:\n",
        "    return [lista[sl],lista[sr]]\n",
        "  else:\n",
        "    dividir = math.ceil((sl + sr) / 2)\n",
        "    l1 = divNearPoints(lista, sl, dividir)\n",
        "    l2 = divNearPoints(lista, dividir+1, sr)\n",
        "    if l1 != None and l2 != None:\n",
        "      nearPoints(l1+l2)\n",
        "    else:\n",
        "      if l1 != None:\n",
        "        nearPoints(l1)\n",
        "      else:\n",
        "        nearPoints(l2)\n",
        "\n",
        "nums = [(0,1),(1,2),(2,1),(3,3),(4,4)]\n",
        "divNearPoints(nums ,0, (len(nums)-1))"
      ],
      "execution_count": null,
      "outputs": []
    }
  ]
}
